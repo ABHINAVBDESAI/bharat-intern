{
 "cells": [
  {
   "cell_type": "code",
   "execution_count": 5,
   "id": "6b69a351",
   "metadata": {},
   "outputs": [],
   "source": [
    "import pandas as pd\n",
    "import numpy as np\n",
    "import matplotlib.pyplot as plt\n",
    "from sklearn.preprocessing import MinMaxScaler\n",
    "from sklearn.metrics import mean_squared_error\n",
    "from keras.models import Sequential\n",
    "from keras.layers import LSTM, Dense"
   ]
  },
  {
   "cell_type": "code",
   "execution_count": 6,
   "id": "3d43ff64",
   "metadata": {},
   "outputs": [],
   "source": [
    "data = pd.read_csv(\"C:\\dataset\\goog.csv\")"
   ]
  },
  {
   "cell_type": "code",
   "execution_count": 7,
   "id": "d3fbe81a",
   "metadata": {},
   "outputs": [
    {
     "data": {
      "text/html": [
       "<div>\n",
       "<style scoped>\n",
       "    .dataframe tbody tr th:only-of-type {\n",
       "        vertical-align: middle;\n",
       "    }\n",
       "\n",
       "    .dataframe tbody tr th {\n",
       "        vertical-align: top;\n",
       "    }\n",
       "\n",
       "    .dataframe thead th {\n",
       "        text-align: right;\n",
       "    }\n",
       "</style>\n",
       "<table border=\"1\" class=\"dataframe\">\n",
       "  <thead>\n",
       "    <tr style=\"text-align: right;\">\n",
       "      <th></th>\n",
       "      <th>Date</th>\n",
       "      <th>Open</th>\n",
       "      <th>High</th>\n",
       "      <th>Low</th>\n",
       "      <th>Close</th>\n",
       "      <th>Volume</th>\n",
       "    </tr>\n",
       "  </thead>\n",
       "  <tbody>\n",
       "    <tr>\n",
       "      <th>0</th>\n",
       "      <td>12/19/2016</td>\n",
       "      <td>790.219971</td>\n",
       "      <td>797.659973</td>\n",
       "      <td>786.270020</td>\n",
       "      <td>794.200012</td>\n",
       "      <td>1225900</td>\n",
       "    </tr>\n",
       "    <tr>\n",
       "      <th>1</th>\n",
       "      <td>12/20/2016</td>\n",
       "      <td>796.760010</td>\n",
       "      <td>798.650024</td>\n",
       "      <td>793.270020</td>\n",
       "      <td>796.419983</td>\n",
       "      <td>925100</td>\n",
       "    </tr>\n",
       "    <tr>\n",
       "      <th>2</th>\n",
       "      <td>12/21/2016</td>\n",
       "      <td>795.840027</td>\n",
       "      <td>796.676025</td>\n",
       "      <td>787.099976</td>\n",
       "      <td>794.559998</td>\n",
       "      <td>1208700</td>\n",
       "    </tr>\n",
       "    <tr>\n",
       "      <th>3</th>\n",
       "      <td>12/22/2016</td>\n",
       "      <td>792.359985</td>\n",
       "      <td>793.320007</td>\n",
       "      <td>788.580017</td>\n",
       "      <td>791.260010</td>\n",
       "      <td>969100</td>\n",
       "    </tr>\n",
       "    <tr>\n",
       "      <th>4</th>\n",
       "      <td>12/23/2016</td>\n",
       "      <td>790.900024</td>\n",
       "      <td>792.739990</td>\n",
       "      <td>787.280029</td>\n",
       "      <td>789.909973</td>\n",
       "      <td>623400</td>\n",
       "    </tr>\n",
       "    <tr>\n",
       "      <th>...</th>\n",
       "      <td>...</td>\n",
       "      <td>...</td>\n",
       "      <td>...</td>\n",
       "      <td>...</td>\n",
       "      <td>...</td>\n",
       "      <td>...</td>\n",
       "    </tr>\n",
       "    <tr>\n",
       "      <th>56</th>\n",
       "      <td>3/13/2017</td>\n",
       "      <td>844.000000</td>\n",
       "      <td>848.684998</td>\n",
       "      <td>843.250000</td>\n",
       "      <td>845.539978</td>\n",
       "      <td>1149500</td>\n",
       "    </tr>\n",
       "    <tr>\n",
       "      <th>57</th>\n",
       "      <td>3/14/2017</td>\n",
       "      <td>843.640015</td>\n",
       "      <td>847.239990</td>\n",
       "      <td>840.799988</td>\n",
       "      <td>845.619995</td>\n",
       "      <td>779900</td>\n",
       "    </tr>\n",
       "    <tr>\n",
       "      <th>58</th>\n",
       "      <td>3/15/2017</td>\n",
       "      <td>847.590027</td>\n",
       "      <td>848.630005</td>\n",
       "      <td>840.770020</td>\n",
       "      <td>847.200012</td>\n",
       "      <td>1379600</td>\n",
       "    </tr>\n",
       "    <tr>\n",
       "      <th>59</th>\n",
       "      <td>3/16/2017</td>\n",
       "      <td>849.030029</td>\n",
       "      <td>850.849976</td>\n",
       "      <td>846.130005</td>\n",
       "      <td>848.780029</td>\n",
       "      <td>970400</td>\n",
       "    </tr>\n",
       "    <tr>\n",
       "      <th>60</th>\n",
       "      <td>3/17/2017</td>\n",
       "      <td>851.609985</td>\n",
       "      <td>853.400024</td>\n",
       "      <td>847.109985</td>\n",
       "      <td>852.119995</td>\n",
       "      <td>1712300</td>\n",
       "    </tr>\n",
       "  </tbody>\n",
       "</table>\n",
       "<p>61 rows × 6 columns</p>\n",
       "</div>"
      ],
      "text/plain": [
       "          Date        Open        High         Low       Close   Volume\n",
       "0   12/19/2016  790.219971  797.659973  786.270020  794.200012  1225900\n",
       "1   12/20/2016  796.760010  798.650024  793.270020  796.419983   925100\n",
       "2   12/21/2016  795.840027  796.676025  787.099976  794.559998  1208700\n",
       "3   12/22/2016  792.359985  793.320007  788.580017  791.260010   969100\n",
       "4   12/23/2016  790.900024  792.739990  787.280029  789.909973   623400\n",
       "..         ...         ...         ...         ...         ...      ...\n",
       "56   3/13/2017  844.000000  848.684998  843.250000  845.539978  1149500\n",
       "57   3/14/2017  843.640015  847.239990  840.799988  845.619995   779900\n",
       "58   3/15/2017  847.590027  848.630005  840.770020  847.200012  1379600\n",
       "59   3/16/2017  849.030029  850.849976  846.130005  848.780029   970400\n",
       "60   3/17/2017  851.609985  853.400024  847.109985  852.119995  1712300\n",
       "\n",
       "[61 rows x 6 columns]"
      ]
     },
     "execution_count": 7,
     "metadata": {},
     "output_type": "execute_result"
    }
   ],
   "source": [
    "data"
   ]
  },
  {
   "cell_type": "code",
   "execution_count": 8,
   "id": "f61f111b",
   "metadata": {},
   "outputs": [],
   "source": [
    "prices = data['Close'].values\n",
    "prices = prices.reshape(-1, 1)"
   ]
  },
  {
   "cell_type": "code",
   "execution_count": 9,
   "id": "f5b484e1",
   "metadata": {},
   "outputs": [],
   "source": [
    "scaler = MinMaxScaler(feature_range=(0, 1))\n",
    "prices = scaler.fit_transform(prices)"
   ]
  },
  {
   "cell_type": "code",
   "execution_count": 10,
   "id": "29fa0a65",
   "metadata": {},
   "outputs": [],
   "source": [
    "train_size = int(len(prices) * 0.80)\n",
    "test_size = len(prices) - train_size\n",
    "train_data, test_data = prices[0:train_size, :], prices[train_size:len(prices), :]"
   ]
  },
  {
   "cell_type": "code",
   "execution_count": 11,
   "id": "49325189",
   "metadata": {},
   "outputs": [],
   "source": [
    "def create_sequences(data, seq_length):\n",
    "    sequences, labels = [], []\n",
    "    for i in range(len(data) - seq_length):\n",
    "        seq = data[i:i+seq_length]\n",
    "        label = data[i+seq_length]\n",
    "        sequences.append(seq)\n",
    "        labels.append(label)\n",
    "    return np.array(sequences), np.array(labels)\n",
    "\n",
    "seq_length = 10 \n",
    "X_train, y_train = create_sequences(train_data, seq_length)\n",
    "X_test, y_test = create_sequences(test_data, seq_length)"
   ]
  },
  {
   "cell_type": "code",
   "execution_count": 12,
   "id": "774bc311",
   "metadata": {},
   "outputs": [],
   "source": [
    "model = Sequential()\n",
    "model.add(LSTM(units=50, input_shape=(X_train.shape[1], X_train.shape[2])))\n",
    "model.add(Dense(units=1))\n",
    "model.compile(loss='mean_squared_error', optimizer='adam')"
   ]
  },
  {
   "cell_type": "code",
   "execution_count": 13,
   "id": "61cadaa4",
   "metadata": {},
   "outputs": [
    {
     "name": "stdout",
     "output_type": "stream",
     "text": [
      "Epoch 1/50\n",
      "2/2 [==============================] - 5s 14ms/step - loss: 0.2193\n",
      "Epoch 2/50\n",
      "2/2 [==============================] - 0s 13ms/step - loss: 0.1713\n",
      "Epoch 3/50\n",
      "2/2 [==============================] - 0s 8ms/step - loss: 0.1291\n",
      "Epoch 4/50\n",
      "2/2 [==============================] - 0s 12ms/step - loss: 0.0913\n",
      "Epoch 5/50\n",
      "2/2 [==============================] - 0s 16ms/step - loss: 0.0598\n",
      "Epoch 6/50\n",
      "2/2 [==============================] - 0s 0s/step - loss: 0.0346\n",
      "Epoch 7/50\n",
      "2/2 [==============================] - 0s 16ms/step - loss: 0.0231\n",
      "Epoch 8/50\n",
      "2/2 [==============================] - 0s 16ms/step - loss: 0.0180\n",
      "Epoch 9/50\n",
      "2/2 [==============================] - 0s 15ms/step - loss: 0.0231\n",
      "Epoch 10/50\n",
      "2/2 [==============================] - 0s 10ms/step - loss: 0.0294\n",
      "Epoch 11/50\n",
      "2/2 [==============================] - 0s 9ms/step - loss: 0.0300\n",
      "Epoch 12/50\n",
      "2/2 [==============================] - 0s 14ms/step - loss: 0.0255\n",
      "Epoch 13/50\n",
      "2/2 [==============================] - 0s 16ms/step - loss: 0.0213\n",
      "Epoch 14/50\n",
      "2/2 [==============================] - 0s 16ms/step - loss: 0.0183\n",
      "Epoch 15/50\n",
      "2/2 [==============================] - 0s 8ms/step - loss: 0.0173\n",
      "Epoch 16/50\n",
      "2/2 [==============================] - 0s 16ms/step - loss: 0.0176\n",
      "Epoch 17/50\n",
      "2/2 [==============================] - 0s 16ms/step - loss: 0.0180\n",
      "Epoch 18/50\n",
      "2/2 [==============================] - 0s 14ms/step - loss: 0.0184\n",
      "Epoch 19/50\n",
      "2/2 [==============================] - 0s 8ms/step - loss: 0.0184\n",
      "Epoch 20/50\n",
      "2/2 [==============================] - 0s 15ms/step - loss: 0.0179\n",
      "Epoch 21/50\n",
      "2/2 [==============================] - 0s 0s/step - loss: 0.0174\n",
      "Epoch 22/50\n",
      "2/2 [==============================] - 0s 12ms/step - loss: 0.0170\n",
      "Epoch 23/50\n",
      "2/2 [==============================] - 0s 9ms/step - loss: 0.0169\n",
      "Epoch 24/50\n",
      "2/2 [==============================] - 0s 16ms/step - loss: 0.0168\n",
      "Epoch 25/50\n",
      "2/2 [==============================] - 0s 16ms/step - loss: 0.0168\n",
      "Epoch 26/50\n",
      "2/2 [==============================] - 0s 16ms/step - loss: 0.0168\n",
      "Epoch 27/50\n",
      "2/2 [==============================] - 0s 14ms/step - loss: 0.0167\n",
      "Epoch 28/50\n",
      "2/2 [==============================] - 0s 15ms/step - loss: 0.0168\n",
      "Epoch 29/50\n",
      "2/2 [==============================] - 0s 16ms/step - loss: 0.0165\n",
      "Epoch 30/50\n",
      "2/2 [==============================] - 0s 16ms/step - loss: 0.0165\n",
      "Epoch 31/50\n",
      "2/2 [==============================] - 0s 8ms/step - loss: 0.0164\n",
      "Epoch 32/50\n",
      "2/2 [==============================] - 0s 10ms/step - loss: 0.0165\n",
      "Epoch 33/50\n",
      "2/2 [==============================] - 0s 13ms/step - loss: 0.0165\n",
      "Epoch 34/50\n",
      "2/2 [==============================] - 0s 13ms/step - loss: 0.0164\n",
      "Epoch 35/50\n",
      "2/2 [==============================] - 0s 14ms/step - loss: 0.0165\n",
      "Epoch 36/50\n",
      "2/2 [==============================] - 0s 17ms/step - loss: 0.0164\n",
      "Epoch 37/50\n",
      "2/2 [==============================] - 0s 13ms/step - loss: 0.0163\n",
      "Epoch 38/50\n",
      "2/2 [==============================] - 0s 13ms/step - loss: 0.0162\n",
      "Epoch 39/50\n",
      "2/2 [==============================] - 0s 7ms/step - loss: 0.0161\n",
      "Epoch 40/50\n",
      "2/2 [==============================] - 0s 8ms/step - loss: 0.0161\n",
      "Epoch 41/50\n",
      "2/2 [==============================] - 0s 19ms/step - loss: 0.0160\n",
      "Epoch 42/50\n",
      "2/2 [==============================] - 0s 9ms/step - loss: 0.0161\n",
      "Epoch 43/50\n",
      "2/2 [==============================] - 0s 11ms/step - loss: 0.0159\n",
      "Epoch 44/50\n",
      "2/2 [==============================] - 0s 16ms/step - loss: 0.0160\n",
      "Epoch 45/50\n",
      "2/2 [==============================] - 0s 0s/step - loss: 0.0159\n",
      "Epoch 46/50\n",
      "2/2 [==============================] - 0s 16ms/step - loss: 0.0159\n",
      "Epoch 47/50\n",
      "2/2 [==============================] - 0s 15ms/step - loss: 0.0158\n",
      "Epoch 48/50\n",
      "2/2 [==============================] - 0s 12ms/step - loss: 0.0159\n",
      "Epoch 49/50\n",
      "2/2 [==============================] - 0s 21ms/step - loss: 0.0157\n",
      "Epoch 50/50\n",
      "2/2 [==============================] - 0s 12ms/step - loss: 0.0157\n"
     ]
    },
    {
     "data": {
      "text/plain": [
       "<keras.src.callbacks.History at 0x1b8085fa590>"
      ]
     },
     "execution_count": 13,
     "metadata": {},
     "output_type": "execute_result"
    }
   ],
   "source": [
    "model.fit(X_train, y_train, epochs=50, batch_size=32, verbose=1)"
   ]
  },
  {
   "cell_type": "code",
   "execution_count": 14,
   "id": "3a2e68ce",
   "metadata": {},
   "outputs": [
    {
     "name": "stdout",
     "output_type": "stream",
     "text": [
      "2/2 [==============================] - 1s 0s/step\n",
      "1/1 [==============================] - 0s 62ms/step\n"
     ]
    }
   ],
   "source": [
    "train_predict = model.predict(X_train)\n",
    "test_predict = model.predict(X_test)"
   ]
  },
  {
   "cell_type": "code",
   "execution_count": 15,
   "id": "876bee62",
   "metadata": {},
   "outputs": [],
   "source": [
    "train_predict = scaler.inverse_transform(train_predict)\n",
    "test_predict = scaler.inverse_transform(test_predict)"
   ]
  },
  {
   "cell_type": "code",
   "execution_count": 16,
   "id": "eb22e8ad",
   "metadata": {},
   "outputs": [],
   "source": [
    "train_original = scaler.inverse_transform(y_train)\n",
    "test_original = scaler.inverse_transform(y_test)"
   ]
  },
  {
   "cell_type": "code",
   "execution_count": 17,
   "id": "98afcc97",
   "metadata": {},
   "outputs": [],
   "source": [
    "train_score = np.sqrt(mean_squared_error(train_original, train_predict))\n",
    "test_score = np.sqrt(mean_squared_error(test_original, test_predict))"
   ]
  },
  {
   "cell_type": "code",
   "execution_count": 18,
   "id": "c8a257fd",
   "metadata": {},
   "outputs": [
    {
     "name": "stdout",
     "output_type": "stream",
     "text": [
      "Train RMSE: 10.06\n",
      "Test RMSE: 15.79\n"
     ]
    }
   ],
   "source": [
    "print(f\"Train RMSE: {train_score:.2f}\")\n",
    "print(f\"Test RMSE: {test_score:.2f}\")"
   ]
  },
  {
   "cell_type": "code",
   "execution_count": 19,
   "id": "6c812912",
   "metadata": {},
   "outputs": [
    {
     "data": {
      "image/png": "[encoded data removed]",
      "text/plain": [
       "<Figure size 1400x600 with 1 Axes>"
      ]
     },
     "metadata": {},
     "output_type": "display_data"
    }
   ],
   "source": [
    "plt.figure(figsize=(14, 6))\n",
    "plt.title('Stock Price Prediction')\n",
    "plt.xlabel('Time')\n",
    "plt.ylabel('Stock Price')\n",
    "plt.plot(data.index[seq_length:len(train_predict) + seq_length], train_original, label='Train')\n",
    "plt.plot(data.index[len(train_predict) + 2 * seq_length:], test_original, label='Test')\n",
    "plt.plot(data.index[seq_length:len(train_predict) + seq_length], train_predict, label='Train Predictions', linestyle='--')\n",
    "plt.plot(data.index[len(train_predict) + 2 * seq_length:], test_predict, label='Test Predictions', linestyle='--')\n",
    "plt.legend()\n",
    "plt.show()"
   ]
  },
  {
   "cell_type": "code",
   "execution_count": null,
   "id": "a8e25d30",
   "metadata": {},
   "outputs": [],
   "source": []
  }
 ],
 "metadata": {
  "kernelspec": {
   "display_name": "Python 3 (ipykernel)",
   "language": "python",
   "name": "python3"
  },
  "language_info": {
   "codemirror_mode": {
    "name": "ipython",
    "version": 3
   },
   "file_extension": ".py",
   "mimetype": "text/x-python",
   "name": "python",
   "nbconvert_exporter": "python",
   "pygments_lexer": "ipython3",
   "version": "3.11.4"
  }
 },
 "nbformat": 4,
 "nbformat_minor": 5
}
